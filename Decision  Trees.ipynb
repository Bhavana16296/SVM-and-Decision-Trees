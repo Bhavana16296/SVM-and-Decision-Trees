{
 "cells": [
  {
   "cell_type": "code",
   "execution_count": 2,
   "metadata": {},
   "outputs": [],
   "source": [
    "import pandas as pd\n",
    "import numpy as np\n",
    "import seaborn as sb\n",
    "import matplotlib.pyplot as plt\n",
    "from sklearn.model_selection import cross_val_score"
   ]
  },
  {
   "cell_type": "code",
   "execution_count": 3,
   "metadata": {},
   "outputs": [
    {
     "name": "stdout",
     "output_type": "stream",
     "text": [
      "   age  sex  cp  trestbps  chol  fbs  restecg  thalach  exang  oldpeak  slope  \\\n",
      "0   63    1   3       145   233    1        0      150      0      2.3      0   \n",
      "1   37    1   2       130   250    0        1      187      0      3.5      0   \n",
      "2   41    0   1       130   204    0        0      172      0      1.4      2   \n",
      "3   56    1   1       120   236    0        1      178      0      0.8      2   \n",
      "4   57    0   0       120   354    0        1      163      1      0.6      2   \n",
      "\n",
      "   ca  thal  target  \n",
      "0   0     1       1  \n",
      "1   0     2       1  \n",
      "2   0     2       1  \n",
      "3   0     2       1  \n",
      "4   0     2       1  \n"
     ]
    }
   ],
   "source": [
    "#importing the dataset\n",
    "\n",
    "data = pd.read_csv(\"heart.csv\")\n",
    "print(data.head())"
   ]
  },
  {
   "cell_type": "code",
   "execution_count": 4,
   "metadata": {},
   "outputs": [],
   "source": [
    "# defining feature matrix(X) and response vector(y) \n",
    "X = data.iloc[:, 0:13]\n",
    "y = data[\"target\"]\n",
    "\n",
    "# splitting X and y into training and testing sets \n",
    "from sklearn.preprocessing import StandardScaler\n",
    "from sklearn.model_selection import train_test_split\n",
    "X_train, X_test, y_train, y_test = train_test_split(X, y, test_size=0.3, \n",
    "                                                    random_state=10) \n",
    "\n",
    "scaler = StandardScaler()\n",
    "X_train = scaler.fit_transform(X_train)\n",
    "X_test = scaler.fit_transform(X_test)"
   ]
  },
  {
   "cell_type": "code",
   "execution_count": 90,
   "metadata": {},
   "outputs": [
    {
     "data": {
      "text/plain": [
       "(212, 13)"
      ]
     },
     "execution_count": 90,
     "metadata": {},
     "output_type": "execute_result"
    }
   ],
   "source": [
    "X_train.shape"
   ]
  },
  {
   "cell_type": "code",
   "execution_count": 53,
   "metadata": {},
   "outputs": [],
   "source": [
    "#Implementing Decision Trees\n",
    "from sklearn.tree import DecisionTreeClassifier\n",
    "\n",
    "best_accuracy = []\n",
    "\n",
    "decision_tree = DecisionTreeClassifier()\n",
    "decision_tree.fit(X_train,y_train) \n",
    "y_pred_train = decision_tree.predict(X_train)\n",
    "y_pred_test = decision_tree.predict(X_test)"
   ]
  },
  {
   "cell_type": "code",
   "execution_count": 54,
   "metadata": {},
   "outputs": [
    {
     "name": "stdout",
     "output_type": "stream",
     "text": [
      "Accuracy for Decision Trees for train: 100.0\n",
      "Accuracy for Decision Trees: 70.32967032967034\n"
     ]
    }
   ],
   "source": [
    "from sklearn.metrics import accuracy_score\n",
    "\n",
    "print(\"Accuracy for Decision Trees for train:\",accuracy_score(y_train,y_pred_train)*100)\n",
    "print(\"Accuracy for Decision Trees:\",accuracy_score(y_test,y_pred_test)*100)\n",
    "\n",
    "best_accuracy.append(accuracy_score(y_test,y_pred_test)*100)"
   ]
  },
  {
   "cell_type": "code",
   "execution_count": 74,
   "metadata": {},
   "outputs": [
    {
     "name": "stdout",
     "output_type": "stream",
     "text": [
      "Cross validation for folds :  2\n",
      "Cross validation for folds :  4\n",
      "Cross validation for folds :  6\n",
      "Cross validation for folds :  8\n",
      "Cross validation for folds :  10\n"
     ]
    }
   ],
   "source": [
    "#Cross Validation for Decision Trees with different folds\n",
    "\n",
    "folds = list(range(2,12,2))\n",
    "mean_accuracy_kernel_folds = []\n",
    "mean_accuracy_folds = []\n",
    "\n",
    "for j in range(len(folds)):\n",
    "    print(\"Cross validation for folds : \", folds[j])\n",
    "    score = cross_val_score(estimator =DecisionTreeClassifier(),X = X_train, y = y_train, cv = folds[j])\n",
    "        \n",
    "    mean_accuracy_folds.append(score.mean()*100)\n",
    "    \n",
    "    mean_accuracy_kernel_folds.append(mean_accuracy_folds)\n",
    "    mean_accuracy_folds = []"
   ]
  },
  {
   "cell_type": "code",
   "execution_count": 76,
   "metadata": {},
   "outputs": [
    {
     "data": {
      "image/png": "[encoded data removed]",
      "text/plain": [
       "<Figure size 432x288 with 1 Axes>"
      ]
     },
     "metadata": {
      "needs_background": "light"
     },
     "output_type": "display_data"
    }
   ],
   "source": [
    "plt.plot(folds , mean_accuracy_kernel_folds, marker ='o', markersize = 8 ,  color ='blue',label='best accuracy')\n",
    "\n",
    "plt.title(\"Accuracy Vs Folds \")\n",
    "plt.xlabel(\"Folds\")\n",
    "plt.grid()\n",
    "plt.ylabel(\"Accuracy\")\n",
    "plt.legend(prop={'size': 8})\n",
    "plt.show()"
   ]
  },
  {
   "cell_type": "code",
   "execution_count": 42,
   "metadata": {},
   "outputs": [
    {
     "name": "stderr",
     "output_type": "stream",
     "text": [
      "C:\\Users\\bhava\\OneDrive\\Documents\\a\\lib\\site-packages\\sklearn\\model_selection\\_search.py:814: DeprecationWarning: The default of the `iid` parameter will change from True to False in version 0.22 and will be removed in 0.24. This will change numeric results when test-set sizes are unequal.\n",
      "  DeprecationWarning)\n"
     ]
    },
    {
     "data": {
      "text/plain": [
       "{'criterion': 'gini',\n",
       " 'max_depth': 5,\n",
       " 'max_leaf_nodes': 15,\n",
       " 'min_samples_leaf': 5,\n",
       " 'min_samples_split': 5}"
      ]
     },
     "execution_count": 42,
     "metadata": {},
     "output_type": "execute_result"
    }
   ],
   "source": [
    "#Implementing decision tree choosing the best parameters\n",
    "from sklearn.model_selection import GridSearchCV\n",
    "\n",
    "deci_tree = DecisionTreeClassifier()\n",
    "param_grid = {\"criterion\": ['entropy', 'gini'],\n",
    "              \"min_samples_split\": [5,10,15],\n",
    "              \"max_depth\": [2,3,5],\n",
    "              \"min_samples_leaf\": [5,10,15],\n",
    "              \"max_leaf_nodes\": [5,10,15],\n",
    "              }\n",
    "\n",
    "CV_dt = GridSearchCV(estimator=deci_tree, param_grid=param_grid, cv= 3)\n",
    "CV_dt.fit(X_train, y_train)\n",
    "CV_dt.best_params_"
   ]
  },
  {
   "cell_type": "code",
   "execution_count": 56,
   "metadata": {},
   "outputs": [
    {
     "name": "stdout",
     "output_type": "stream",
     "text": [
      "Accuracy for Decision Trees after parameter tuning for train: 88.67924528301887\n",
      "Accuracy for Decision Trees after parameter tuning for test: 72.52747252747253\n"
     ]
    }
   ],
   "source": [
    "DT_param_tuning = DecisionTreeClassifier(criterion='gini',max_depth=5,max_leaf_nodes=15,min_samples_leaf=5,min_samples_split=10)\n",
    "DT_param_tuning.fit(X_train, y_train) \n",
    "\n",
    "print(\"Accuracy for Decision Trees after parameter tuning for train:\",DT_param_tuning.score(X_train,y_train)*100)\n",
    "print(\"Accuracy for Decision Trees after parameter tuning for test:\",DT_param_tuning.score(X_test,y_test)*100)\n",
    "\n",
    "best_accuracy.append(DT_param_tuning.score(X_test,y_test)*100)"
   ]
  },
  {
   "cell_type": "code",
   "execution_count": 77,
   "metadata": {},
   "outputs": [
    {
     "name": "stdout",
     "output_type": "stream",
     "text": [
      "Accuracy for Random Forest for train: 100.0\n",
      "Accuracy for Random Forest for test: 100.0\n"
     ]
    },
    {
     "name": "stderr",
     "output_type": "stream",
     "text": [
      "C:\\Users\\bhava\\OneDrive\\Documents\\a\\lib\\site-packages\\sklearn\\ensemble\\forest.py:245: FutureWarning: The default value of n_estimators will change from 10 in version 0.20 to 100 in 0.22.\n",
      "  \"10 in version 0.20 to 100 in 0.22.\", FutureWarning)\n"
     ]
    }
   ],
   "source": [
    "#Implementing Random Forest\n",
    "from sklearn.ensemble import RandomForestClassifier\n",
    "\n",
    "random_forest = RandomForestClassifier() \n",
    "random_forest.fit(X_train,y_train)\n",
    "y_pred_train = random_forest.predict(X_train)\n",
    "y_pred_test = random_forest.predict(X_test)\n",
    "\n",
    "print(\"Accuracy for Random Forest for train:\",random_forest.score(X_train,y_pred_train)*100)\n",
    "print(\"Accuracy for Random Forest for test:\",random_forest.score(X_test,y_pred_test)*100)\n",
    "\n",
    "best_accuracy.append(random_forest.score(X_test,y_pred_test)*100)"
   ]
  },
  {
   "cell_type": "code",
   "execution_count": 78,
   "metadata": {},
   "outputs": [
    {
     "name": "stdout",
     "output_type": "stream",
     "text": [
      "Cross validation for folds :  2\n",
      "Cross validation for folds :  4\n",
      "Cross validation for folds :  6\n"
     ]
    },
    {
     "name": "stderr",
     "output_type": "stream",
     "text": [
      "C:\\Users\\bhava\\OneDrive\\Documents\\a\\lib\\site-packages\\sklearn\\ensemble\\forest.py:245: FutureWarning: The default value of n_estimators will change from 10 in version 0.20 to 100 in 0.22.\n",
      "  \"10 in version 0.20 to 100 in 0.22.\", FutureWarning)\n",
      "C:\\Users\\bhava\\OneDrive\\Documents\\a\\lib\\site-packages\\sklearn\\ensemble\\forest.py:245: FutureWarning: The default value of n_estimators will change from 10 in version 0.20 to 100 in 0.22.\n",
      "  \"10 in version 0.20 to 100 in 0.22.\", FutureWarning)\n",
      "C:\\Users\\bhava\\OneDrive\\Documents\\a\\lib\\site-packages\\sklearn\\ensemble\\forest.py:245: FutureWarning: The default value of n_estimators will change from 10 in version 0.20 to 100 in 0.22.\n",
      "  \"10 in version 0.20 to 100 in 0.22.\", FutureWarning)\n",
      "C:\\Users\\bhava\\OneDrive\\Documents\\a\\lib\\site-packages\\sklearn\\ensemble\\forest.py:245: FutureWarning: The default value of n_estimators will change from 10 in version 0.20 to 100 in 0.22.\n",
      "  \"10 in version 0.20 to 100 in 0.22.\", FutureWarning)\n",
      "C:\\Users\\bhava\\OneDrive\\Documents\\a\\lib\\site-packages\\sklearn\\ensemble\\forest.py:245: FutureWarning: The default value of n_estimators will change from 10 in version 0.20 to 100 in 0.22.\n",
      "  \"10 in version 0.20 to 100 in 0.22.\", FutureWarning)\n",
      "C:\\Users\\bhava\\OneDrive\\Documents\\a\\lib\\site-packages\\sklearn\\ensemble\\forest.py:245: FutureWarning: The default value of n_estimators will change from 10 in version 0.20 to 100 in 0.22.\n",
      "  \"10 in version 0.20 to 100 in 0.22.\", FutureWarning)\n",
      "C:\\Users\\bhava\\OneDrive\\Documents\\a\\lib\\site-packages\\sklearn\\ensemble\\forest.py:245: FutureWarning: The default value of n_estimators will change from 10 in version 0.20 to 100 in 0.22.\n",
      "  \"10 in version 0.20 to 100 in 0.22.\", FutureWarning)\n",
      "C:\\Users\\bhava\\OneDrive\\Documents\\a\\lib\\site-packages\\sklearn\\ensemble\\forest.py:245: FutureWarning: The default value of n_estimators will change from 10 in version 0.20 to 100 in 0.22.\n",
      "  \"10 in version 0.20 to 100 in 0.22.\", FutureWarning)\n",
      "C:\\Users\\bhava\\OneDrive\\Documents\\a\\lib\\site-packages\\sklearn\\ensemble\\forest.py:245: FutureWarning: The default value of n_estimators will change from 10 in version 0.20 to 100 in 0.22.\n",
      "  \"10 in version 0.20 to 100 in 0.22.\", FutureWarning)\n",
      "C:\\Users\\bhava\\OneDrive\\Documents\\a\\lib\\site-packages\\sklearn\\ensemble\\forest.py:245: FutureWarning: The default value of n_estimators will change from 10 in version 0.20 to 100 in 0.22.\n",
      "  \"10 in version 0.20 to 100 in 0.22.\", FutureWarning)\n",
      "C:\\Users\\bhava\\OneDrive\\Documents\\a\\lib\\site-packages\\sklearn\\ensemble\\forest.py:245: FutureWarning: The default value of n_estimators will change from 10 in version 0.20 to 100 in 0.22.\n",
      "  \"10 in version 0.20 to 100 in 0.22.\", FutureWarning)\n",
      "C:\\Users\\bhava\\OneDrive\\Documents\\a\\lib\\site-packages\\sklearn\\ensemble\\forest.py:245: FutureWarning: The default value of n_estimators will change from 10 in version 0.20 to 100 in 0.22.\n",
      "  \"10 in version 0.20 to 100 in 0.22.\", FutureWarning)\n",
      "C:\\Users\\bhava\\OneDrive\\Documents\\a\\lib\\site-packages\\sklearn\\ensemble\\forest.py:245: FutureWarning: The default value of n_estimators will change from 10 in version 0.20 to 100 in 0.22.\n",
      "  \"10 in version 0.20 to 100 in 0.22.\", FutureWarning)\n",
      "C:\\Users\\bhava\\OneDrive\\Documents\\a\\lib\\site-packages\\sklearn\\ensemble\\forest.py:245: FutureWarning: The default value of n_estimators will change from 10 in version 0.20 to 100 in 0.22.\n",
      "  \"10 in version 0.20 to 100 in 0.22.\", FutureWarning)\n",
      "C:\\Users\\bhava\\OneDrive\\Documents\\a\\lib\\site-packages\\sklearn\\ensemble\\forest.py:245: FutureWarning: The default value of n_estimators will change from 10 in version 0.20 to 100 in 0.22.\n",
      "  \"10 in version 0.20 to 100 in 0.22.\", FutureWarning)\n",
      "C:\\Users\\bhava\\OneDrive\\Documents\\a\\lib\\site-packages\\sklearn\\ensemble\\forest.py:245: FutureWarning: The default value of n_estimators will change from 10 in version 0.20 to 100 in 0.22.\n",
      "  \"10 in version 0.20 to 100 in 0.22.\", FutureWarning)\n",
      "C:\\Users\\bhava\\OneDrive\\Documents\\a\\lib\\site-packages\\sklearn\\ensemble\\forest.py:245: FutureWarning: The default value of n_estimators will change from 10 in version 0.20 to 100 in 0.22.\n",
      "  \"10 in version 0.20 to 100 in 0.22.\", FutureWarning)\n",
      "C:\\Users\\bhava\\OneDrive\\Documents\\a\\lib\\site-packages\\sklearn\\ensemble\\forest.py:245: FutureWarning: The default value of n_estimators will change from 10 in version 0.20 to 100 in 0.22.\n",
      "  \"10 in version 0.20 to 100 in 0.22.\", FutureWarning)\n",
      "C:\\Users\\bhava\\OneDrive\\Documents\\a\\lib\\site-packages\\sklearn\\ensemble\\forest.py:245: FutureWarning: The default value of n_estimators will change from 10 in version 0.20 to 100 in 0.22.\n",
      "  \"10 in version 0.20 to 100 in 0.22.\", FutureWarning)\n",
      "C:\\Users\\bhava\\OneDrive\\Documents\\a\\lib\\site-packages\\sklearn\\ensemble\\forest.py:245: FutureWarning: The default value of n_estimators will change from 10 in version 0.20 to 100 in 0.22.\n",
      "  \"10 in version 0.20 to 100 in 0.22.\", FutureWarning)\n",
      "C:\\Users\\bhava\\OneDrive\\Documents\\a\\lib\\site-packages\\sklearn\\ensemble\\forest.py:245: FutureWarning: The default value of n_estimators will change from 10 in version 0.20 to 100 in 0.22.\n",
      "  \"10 in version 0.20 to 100 in 0.22.\", FutureWarning)\n",
      "C:\\Users\\bhava\\OneDrive\\Documents\\a\\lib\\site-packages\\sklearn\\ensemble\\forest.py:245: FutureWarning: The default value of n_estimators will change from 10 in version 0.20 to 100 in 0.22.\n",
      "  \"10 in version 0.20 to 100 in 0.22.\", FutureWarning)\n",
      "C:\\Users\\bhava\\OneDrive\\Documents\\a\\lib\\site-packages\\sklearn\\ensemble\\forest.py:245: FutureWarning: The default value of n_estimators will change from 10 in version 0.20 to 100 in 0.22.\n",
      "  \"10 in version 0.20 to 100 in 0.22.\", FutureWarning)\n",
      "C:\\Users\\bhava\\OneDrive\\Documents\\a\\lib\\site-packages\\sklearn\\ensemble\\forest.py:245: FutureWarning: The default value of n_estimators will change from 10 in version 0.20 to 100 in 0.22.\n",
      "  \"10 in version 0.20 to 100 in 0.22.\", FutureWarning)\n"
     ]
    },
    {
     "name": "stdout",
     "output_type": "stream",
     "text": [
      "Cross validation for folds :  8\n",
      "Cross validation for folds :  10\n"
     ]
    },
    {
     "name": "stderr",
     "output_type": "stream",
     "text": [
      "C:\\Users\\bhava\\OneDrive\\Documents\\a\\lib\\site-packages\\sklearn\\ensemble\\forest.py:245: FutureWarning: The default value of n_estimators will change from 10 in version 0.20 to 100 in 0.22.\n",
      "  \"10 in version 0.20 to 100 in 0.22.\", FutureWarning)\n",
      "C:\\Users\\bhava\\OneDrive\\Documents\\a\\lib\\site-packages\\sklearn\\ensemble\\forest.py:245: FutureWarning: The default value of n_estimators will change from 10 in version 0.20 to 100 in 0.22.\n",
      "  \"10 in version 0.20 to 100 in 0.22.\", FutureWarning)\n",
      "C:\\Users\\bhava\\OneDrive\\Documents\\a\\lib\\site-packages\\sklearn\\ensemble\\forest.py:245: FutureWarning: The default value of n_estimators will change from 10 in version 0.20 to 100 in 0.22.\n",
      "  \"10 in version 0.20 to 100 in 0.22.\", FutureWarning)\n",
      "C:\\Users\\bhava\\OneDrive\\Documents\\a\\lib\\site-packages\\sklearn\\ensemble\\forest.py:245: FutureWarning: The default value of n_estimators will change from 10 in version 0.20 to 100 in 0.22.\n",
      "  \"10 in version 0.20 to 100 in 0.22.\", FutureWarning)\n",
      "C:\\Users\\bhava\\OneDrive\\Documents\\a\\lib\\site-packages\\sklearn\\ensemble\\forest.py:245: FutureWarning: The default value of n_estimators will change from 10 in version 0.20 to 100 in 0.22.\n",
      "  \"10 in version 0.20 to 100 in 0.22.\", FutureWarning)\n",
      "C:\\Users\\bhava\\OneDrive\\Documents\\a\\lib\\site-packages\\sklearn\\ensemble\\forest.py:245: FutureWarning: The default value of n_estimators will change from 10 in version 0.20 to 100 in 0.22.\n",
      "  \"10 in version 0.20 to 100 in 0.22.\", FutureWarning)\n"
     ]
    }
   ],
   "source": [
    "#Cross Validation for Decision Trees with different folds\n",
    "\n",
    "folds = list(range(2,12,2))\n",
    "mean_accuracy_kernel_folds = []\n",
    "mean_accuracy_folds = []\n",
    "\n",
    "for j in range(len(folds)):\n",
    "    print(\"Cross validation for folds : \", folds[j])\n",
    "    score = cross_val_score(estimator =RandomForestClassifier(),X = X_train, y = y_train, cv = folds[j])\n",
    "        \n",
    "    mean_accuracy_folds.append(score.mean()*100)\n",
    "    \n",
    "    mean_accuracy_kernel_folds.append(mean_accuracy_folds)\n",
    "    mean_accuracy_folds = []"
   ]
  },
  {
   "cell_type": "code",
   "execution_count": 79,
   "metadata": {},
   "outputs": [
    {
     "data": {
      "image/png": "[encoded data removed]",
      "text/plain": [
       "<Figure size 432x288 with 1 Axes>"
      ]
     },
     "metadata": {
      "needs_background": "light"
     },
     "output_type": "display_data"
    }
   ],
   "source": [
    "plt.plot(folds , mean_accuracy_kernel_folds, marker ='o', markersize = 8 ,  color ='blue',label='best accuracy')\n",
    "\n",
    "plt.title(\"Accuracy Vs Folds \")\n",
    "plt.xlabel(\"Folds\")\n",
    "plt.grid()\n",
    "plt.ylabel(\"Accuracy\")\n",
    "plt.legend(prop={'size': 8})\n",
    "plt.show()"
   ]
  },
  {
   "cell_type": "code",
   "execution_count": 47,
   "metadata": {},
   "outputs": [
    {
     "name": "stderr",
     "output_type": "stream",
     "text": [
      "C:\\Users\\bhava\\OneDrive\\Documents\\a\\lib\\site-packages\\sklearn\\model_selection\\_search.py:814: DeprecationWarning: The default of the `iid` parameter will change from True to False in version 0.22 and will be removed in 0.24. This will change numeric results when test-set sizes are unequal.\n",
      "  DeprecationWarning)\n"
     ]
    },
    {
     "data": {
      "text/plain": [
       "{'criterion': 'gini',\n",
       " 'max_depth': 6,\n",
       " 'max_features': 'auto',\n",
       " 'n_estimators': 200}"
      ]
     },
     "execution_count": 47,
     "metadata": {},
     "output_type": "execute_result"
    }
   ],
   "source": [
    "#Implementing random forests with best parameters \n",
    "\n",
    "from sklearn.model_selection import GridSearchCV\n",
    "\n",
    "rfc = RandomForestClassifier(oob_score=True,random_state=42)\n",
    "param_grid = { \n",
    "    'n_estimators': [200,300,500],\n",
    "    'max_features': ['auto', 'sqrt', 'log2'],\n",
    "    'max_depth' : [4,5,6],\n",
    "    'criterion' :['gini', 'entropy']\n",
    "}\n",
    "CV_rfc = GridSearchCV(estimator=rfc, param_grid=param_grid, cv= 3)\n",
    "CV_rfc.fit(X_train, y_train)\n",
    "CV_rfc.best_params_"
   ]
  },
  {
   "cell_type": "code",
   "execution_count": 59,
   "metadata": {},
   "outputs": [
    {
     "name": "stdout",
     "output_type": "stream",
     "text": [
      "Accuracy for Random Forest after parameter tuning for train: 97.64150943396226\n",
      "Accuracy for Random Forest after parameter tuning for test: 76.92307692307693\n"
     ]
    }
   ],
   "source": [
    "RF_param_Tuning = RandomForestClassifier(max_depth=6,oob_score=True,random_state=42,criterion='gini',max_features='auto',n_estimators=200)\n",
    "RF_param_Tuning.fit(X_train, y_train)    \n",
    "\n",
    "print(\"Accuracy for Random Forest after parameter tuning for train:\",RF_param_Tuning.score(X_train,y_train)*100)\n",
    "print(\"Accuracy for Random Forest after parameter tuning for test:\",RF_param_Tuning.score(X_test,y_test)*100)\n",
    "\n",
    "best_accuracy.append(RF_param_Tuning.score(X_test,y_test)*100)"
   ]
  },
  {
   "cell_type": "code",
   "execution_count": 61,
   "metadata": {},
   "outputs": [
    {
     "data": {
      "image/png": "[encoded data removed]",
      "text/plain": [
       "<Figure size 432x288 with 1 Axes>"
      ]
     },
     "metadata": {
      "needs_background": "light"
     },
     "output_type": "display_data"
    }
   ],
   "source": [
    "learning_techniques = ['DecisionTrees', 'DT with CV','RandomForest','RF with CV','DT tuning','RF tuning']\n",
    "\n",
    "plt.plot(learning_techniques , best_accuracy , marker ='o', markersize = 6 , color ='blue',label='best accuracy')\n",
    "plt.title(\" Accuracy Vs learning_techniques \")\n",
    "plt.xlabel(\"learning_techniques\")\n",
    "plt.grid()\n",
    "plt.ylabel(\"Accuracy\")\n",
    "plt.legend()\n",
    "plt.show()"
   ]
  },
  {
   "cell_type": "code",
   "execution_count": 38,
   "metadata": {},
   "outputs": [
    {
     "name": "stdout",
     "output_type": "stream",
     "text": [
      "Collecting xgboost\n",
      "  Downloading https://files.pythonhosted.org/packages/b1/11/cba4be5a737c6431323b89b5ade818b3bbe1df6e8261c6c70221a767c5d9/xgboost-1.0.2-py3-none-win_amd64.whl (24.6MB)\n",
      "Requirement already satisfied: scipy in c:\\users\\bhava\\onedrive\\documents\\a\\lib\\site-packages (from xgboost) (1.3.1)\n",
      "Requirement already satisfied: numpy in c:\\users\\bhava\\onedrive\\documents\\a\\lib\\site-packages (from xgboost) (1.16.5)\n",
      "Installing collected packages: xgboost\n",
      "Successfully installed xgboost-1.0.2\n",
      "Note: you may need to restart the kernel to use updated packages.\n"
     ]
    }
   ],
   "source": [
    "pip install xgboost"
   ]
  },
  {
   "cell_type": "code",
   "execution_count": 80,
   "metadata": {},
   "outputs": [
    {
     "name": "stdout",
     "output_type": "stream",
     "text": [
      "Accuracy for XGboost for train: 100.0\n",
      "Accuracy for XGboost for test: 79.12087912087912\n"
     ]
    }
   ],
   "source": [
    "#Implementing XGboost\n",
    "import xgboost as xgb\n",
    "\n",
    "best_boosting_accuracy = []\n",
    "\n",
    "XGB_model=xgb.XGBClassifier()\n",
    "XGB_model.fit(X_train, y_train)\n",
    "\n",
    "print(\"Accuracy for XGboost for train:\",XGB_model.score(X_train,y_train)*100)\n",
    "print(\"Accuracy for XGboost for test:\",XGB_model.score(X_test,y_test)*100)\n",
    "\n",
    "best_boosting_accuracy.append(XGB_model.score(X_test,y_test)*100)"
   ]
  },
  {
   "cell_type": "code",
   "execution_count": 10,
   "metadata": {},
   "outputs": [
    {
     "name": "stderr",
     "output_type": "stream",
     "text": [
      "C:\\Users\\bhava\\OneDrive\\Documents\\a\\lib\\site-packages\\sklearn\\model_selection\\_search.py:814: DeprecationWarning: The default of the `iid` parameter will change from True to False in version 0.22 and will be removed in 0.24. This will change numeric results when test-set sizes are unequal.\n",
      "  DeprecationWarning)\n"
     ]
    },
    {
     "data": {
      "text/plain": [
       "{'booster': 'gbtree',\n",
       " 'colsample_bytree': 0.8,\n",
       " 'learning_rate': 0.6,\n",
       " 'max_depth': 7,\n",
       " 'min_child_weight': 0.001,\n",
       " 'n_estimators': 2}"
      ]
     },
     "execution_count": 10,
     "metadata": {},
     "output_type": "execute_result"
    }
   ],
   "source": [
    "#Implementing XGboost with best parameters\n",
    "from sklearn.model_selection import GridSearchCV\n",
    "\n",
    "XGB_clf = xgb.XGBClassifier()\n",
    "XGB_param_grid = {\n",
    "    'n_estimators': range(1,20),\n",
    "    'max_depth': range(1, 10),\n",
    "    'learning_rate': [.1,.4, .45, .5, .55, .6],\n",
    "    'colsample_bytree': [.6, .7, .8, .9, 1],\n",
    "    'booster':[\"gbtree\"],\n",
    "     'min_child_weight': [0.001,0.003,0.01],\n",
    "}\n",
    "CV_XGB = GridSearchCV(estimator=XGB_clf, param_grid=XGB_param_grid, cv= 3)\n",
    "CV_XGB.fit(X_train, y_train)\n",
    "CV_XGB.best_params_"
   ]
  },
  {
   "cell_type": "code",
   "execution_count": 81,
   "metadata": {},
   "outputs": [
    {
     "name": "stdout",
     "output_type": "stream",
     "text": [
      "Accuracy for XGboost after tuning for train: 96.69811320754717\n",
      "Accuracy for XGboost after tuning for test: 75.82417582417582\n"
     ]
    }
   ],
   "source": [
    "xgb_tuned_model=xgb.XGBClassifier(n_estimators=2,\n",
    "                            min_child_weight=0.001,\n",
    "                            max_depth=7,\n",
    "                            learning_rate=0.6,\n",
    "                            colsample_bytree=0.8,\n",
    "                            booster='gbtree')\n",
    "xgb_tuned_model.fit(X_train, y_train)\n",
    "\n",
    "print(\"Accuracy for XGboost after tuning for train:\",xgb_tuned_model.score(X_train,y_train)*100)\n",
    "print(\"Accuracy for XGboost after tuning for test:\",xgb_tuned_model.score(X_test,y_test)*100)\n",
    "\n",
    "best_boosting_accuracy.append(xgb_tuned_model.score(X_test,y_test)*100)"
   ]
  },
  {
   "cell_type": "code",
   "execution_count": 82,
   "metadata": {},
   "outputs": [
    {
     "name": "stdout",
     "output_type": "stream",
     "text": [
      "Accuracy for XGboost for train: 100.0\n",
      "Accuracy for XGboost for test: 75.82417582417582\n"
     ]
    }
   ],
   "source": [
    "#Implementing Gradient Boosting\n",
    "from sklearn.ensemble import GradientBoostingClassifier\n",
    "\n",
    "GB_model=GradientBoostingClassifier()\n",
    "GB_model.fit(X_train, y_train)\n",
    "\n",
    "print(\"Accuracy for XGboost for train:\",GB_model.score(X_train,y_train)*100)\n",
    "print(\"Accuracy for XGboost for test:\",GB_model.score(X_test,y_test)*100)\n",
    "\n",
    "best_boosting_accuracy.append(GB_model.score(X_test,y_test)*100)"
   ]
  },
  {
   "cell_type": "code",
   "execution_count": 18,
   "metadata": {},
   "outputs": [
    {
     "name": "stderr",
     "output_type": "stream",
     "text": [
      "C:\\Users\\bhava\\OneDrive\\Documents\\a\\lib\\site-packages\\sklearn\\model_selection\\_search.py:814: DeprecationWarning: The default of the `iid` parameter will change from True to False in version 0.22 and will be removed in 0.24. This will change numeric results when test-set sizes are unequal.\n",
      "  DeprecationWarning)\n"
     ]
    },
    {
     "data": {
      "text/plain": [
       "{'learning_rate': 0.075, 'max_depth': 3, 'n_estimators': 10}"
      ]
     },
     "execution_count": 18,
     "metadata": {},
     "output_type": "execute_result"
    }
   ],
   "source": [
    "#Implementing Gradient Boosting with best parameters\n",
    "GB_clf = GradientBoostingClassifier()\n",
    "GB_param_grid = {\n",
    "    'n_estimators': [2,3,5,7,10],\n",
    "    'max_depth': [2,3,4,5,6],\n",
    "    'learning_rate': [0.01,0.02,0.05,0.075,0.1,0.2]\n",
    "}\n",
    "CV_GB = GridSearchCV(estimator=GB_clf, param_grid=GB_param_grid, cv= 3)\n",
    "CV_GB.fit(X_train, y_train)\n",
    "CV_GB.best_params_"
   ]
  },
  {
   "cell_type": "code",
   "execution_count": 83,
   "metadata": {},
   "outputs": [
    {
     "name": "stdout",
     "output_type": "stream",
     "text": [
      "Accuracy for Gradient Boosting after tuning for train: 89.15094339622641\n",
      "Accuracy for Gradient Boosting after tuning for test: 70.32967032967034\n"
     ]
    }
   ],
   "source": [
    "tuned_gb_clf = GradientBoostingClassifier(n_estimators=10, learning_rate=0.075, max_depth=3)\n",
    "tuned_gb_clf.fit(X_train, y_train)\n",
    "\n",
    "print(\"Accuracy for Gradient Boosting after tuning for train:\",tuned_gb_clf.score(X_train,y_train)*100)\n",
    "print(\"Accuracy for Gradient Boosting after tuning for test:\",tuned_gb_clf.score(X_test,y_test)*100)\n",
    "\n",
    "best_boosting_accuracy.append(tuned_gb_clf.score(X_test,y_test)*100)"
   ]
  },
  {
   "cell_type": "code",
   "execution_count": 84,
   "metadata": {},
   "outputs": [
    {
     "data": {
      "text/plain": [
       "[79.12087912087912, 75.82417582417582, 75.82417582417582, 70.32967032967034]"
      ]
     },
     "execution_count": 84,
     "metadata": {},
     "output_type": "execute_result"
    }
   ],
   "source": [
    "best_boosting_accuracy"
   ]
  },
  {
   "cell_type": "code",
   "execution_count": 85,
   "metadata": {},
   "outputs": [
    {
     "data": {
      "image/png": "[encoded data removed]",
      "text/plain": [
       "<Figure size 432x288 with 1 Axes>"
      ]
     },
     "metadata": {
      "needs_background": "light"
     },
     "output_type": "display_data"
    }
   ],
   "source": [
    "boosting_techniques = ['XGboost', 'XG Tuned','Gradient Boost','GB Tuned']\n",
    "\n",
    "plt.plot(boosting_techniques , best_boosting_accuracy , marker ='o', markersize = 6 , color ='blue',label='best accuracy')\n",
    "plt.title(\" Accuracy Vs learning_techniques \")\n",
    "plt.xlabel(\"learning_techniques\")\n",
    "plt.grid()\n",
    "plt.ylabel(\"Accuracy\")\n",
    "plt.legend()\n",
    "plt.show()"
   ]
  },
  {
   "cell_type": "code",
   "execution_count": 87,
   "metadata": {},
   "outputs": [
    {
     "data": {
      "image/png": "[encoded data removed]",
      "text/plain": [
       "<Figure size 432x288 with 1 Axes>"
      ]
     },
     "metadata": {
      "needs_background": "light"
     },
     "output_type": "display_data"
    }
   ],
   "source": [
    "#Gradient Boosting to find the best parameters\n",
    "from sklearn.ensemble import GradientBoostingClassifier\n",
    "from sklearn.model_selection import validation_curve\n",
    "\n",
    "GB_clf = GradientBoostingClassifier()\n",
    "param_range = [2,3,5,7,10]\n",
    "train_scores, valid_scores = validation_curve(GB_clf, X_train, y_train,\n",
    "                                              \"n_estimators\",param_range,\n",
    "                                              cv=5,scoring=\"f1\")\n",
    "train_mean = np.mean(train_scores,axis=1)\n",
    "valid_mean = np.mean(valid_scores,axis=1)\n",
    "\n",
    "plt.plot(param_range, train_mean, label=\"Training\")\n",
    "plt.plot(param_range, valid_mean, label=\"Validation\")\n",
    "plt.tight_layout()\n",
    "plt.xlabel(\"Estimators\")\n",
    "plt.ylabel(\"Accuracy\")\n",
    "plt.legend(loc=\"best\")\n",
    "plt.show()"
   ]
  },
  {
   "cell_type": "code",
   "execution_count": 88,
   "metadata": {},
   "outputs": [
    {
     "data": {
      "image/png": "[encoded data removed]",
      "text/plain": [
       "<Figure size 432x288 with 1 Axes>"
      ]
     },
     "metadata": {
      "needs_background": "light"
     },
     "output_type": "display_data"
    }
   ],
   "source": [
    "GB_clf = GradientBoostingClassifier(n_estimators=7)\n",
    "\n",
    "param_range = [0.01,0.02,0.05,0.075,0.1,0.2]\n",
    "train_scores, valid_scores = validation_curve(GB_clf, X_train, y_train,\n",
    "                                              \"learning_rate\",param_range,\n",
    "                                              cv=5,scoring=\"f1\")\n",
    "\n",
    "train_mean = np.mean(train_scores,axis=1)\n",
    "valid_mean = np.mean(valid_scores,axis=1)\n",
    "\n",
    "plt.plot(param_range, train_mean, label=\"Training\")\n",
    "plt.plot(param_range, valid_mean, label=\"Validation\")\n",
    "plt.tight_layout()\n",
    "plt.xlabel(\"Learning Rate\")\n",
    "plt.ylabel(\"Accuracy\")\n",
    "plt.legend(loc=\"best\")\n",
    "plt.show()"
   ]
  },
  {
   "cell_type": "code",
   "execution_count": 89,
   "metadata": {},
   "outputs": [
    {
     "data": {
      "image/png": "[encoded data removed]",
      "text/plain": [
       "<Figure size 432x288 with 1 Axes>"
      ]
     },
     "metadata": {
      "needs_background": "light"
     },
     "output_type": "display_data"
    }
   ],
   "source": [
    "GB_clf = GradientBoostingClassifier(n_estimators=7, learning_rate=0.1)\n",
    "\n",
    "param_range = [2,3,4,5,6]\n",
    "train_scores, valid_scores = validation_curve(GB_clf, X_train, y_train,\n",
    "                                              \"max_depth\",param_range,\n",
    "                                              cv=5,scoring=\"f1\")\n",
    "\n",
    "train_mean = np.mean(train_scores,axis=1)\n",
    "valid_mean = np.mean(valid_scores,axis=1)\n",
    "\n",
    "plt.plot(param_range, train_mean, label=\"Training\")\n",
    "plt.plot(param_range, valid_mean, label=\"Validation\")\n",
    "plt.tight_layout()\n",
    "plt.xlabel(\"Maximum Depth\")\n",
    "plt.ylabel(\"Accuracy\")\n",
    "plt.legend(loc=\"best\")\n",
    "plt.show()"
   ]
  }
 ],
 "metadata": {
  "kernelspec": {
   "display_name": "Python 3",
   "language": "python",
   "name": "python3"
  },
  "language_info": {
   "codemirror_mode": {
    "name": "ipython",
    "version": 3
   },
   "file_extension": ".py",
   "mimetype": "text/x-python",
   "name": "python",
   "nbconvert_exporter": "python",
   "pygments_lexer": "ipython3",
   "version": "3.7.6"
  }
 },
 "nbformat": 4,
 "nbformat_minor": 2
}
